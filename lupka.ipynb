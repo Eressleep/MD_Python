{
 "cells": [
  {
   "cell_type": "code",
   "execution_count": 79,
   "metadata": {},
   "outputs": [],
   "source": [
    "from collections import Counter\n",
    "from costum_except import *\n"
   ]
  },
  {
   "cell_type": "code",
   "execution_count": 103,
   "metadata": {},
   "outputs": [
    {
     "data": {
      "text/plain": [
       "['begu', 'etv', 'fo']"
      ]
     },
     "execution_count": 103,
     "metadata": {},
     "output_type": "execute_result"
    }
   ],
   "source": [
    "def journey_begins(*argTup, same_letters = 2):\n",
    "    \n",
    "    if(type(argTup) == 'turple'):\n",
    "        raise NoInputError('No input data')\n",
    "    if (same_letters < 1):\n",
    "        raise ZeroNegativeError('Invalid parameter value')\n",
    "        \n",
    "    answer = []\n",
    "    \n",
    "    for words in argTup:\n",
    "        \n",
    "        word_1 = ((set(words[0].lower())))\n",
    "        word_2 = ((set(words[1].lower())))\n",
    "        \n",
    "        \n",
    "        if ((len(word_1 & word_2)) >= same_letters):\n",
    "            \n",
    "            data = sorted(word_1 & word_2)\n",
    "            \n",
    "            answer.append(''.join(data))\n",
    "            \n",
    "            \n",
    "    return sorted(answer)\n",
    "\n",
    "journey_begins(*args, same_letters = 2)"
   ]
  },
  {
   "cell_type": "code",
   "execution_count": 110,
   "metadata": {},
   "outputs": [
    {
     "data": {
      "text/plain": [
       "[0.410406858057759,\n",
       " 0.5734560224875481,\n",
       " 0.5959990034899855,\n",
       " 0.14309405556829524,\n",
       " 0.2062114087884721,\n",
       " 0.0372247906157025,\n",
       " 0.41956496161415036,\n",
       " 0.8984652644272422,\n",
       " 0.7123113766215649,\n",
       " 0.3416592295578518]"
      ]
     },
     "execution_count": 110,
     "metadata": {},
     "output_type": "execute_result"
    }
   ],
   "source": [
    "import random\n",
    "[random.random()  for _ in range(10)]"
   ]
  },
  {
   "cell_type": "code",
   "execution_count": 94,
   "metadata": {},
   "outputs": [
    {
     "data": {
      "text/plain": [
       "['begu', 'etv', 'fo']"
      ]
     },
     "execution_count": 94,
     "metadata": {},
     "output_type": "execute_result"
    }
   ],
   "source": [
    "args = [('Foolish',    'food'),\n",
    "        ('Solt',       'veruka'),\n",
    "        ('Beauregard', 'bubble gum'),\n",
    "        ('Teavee',     'television')]\n",
    "\n",
    "journey_begins(*args, same_letters = 2)"
   ]
  },
  {
   "cell_type": "code",
   "execution_count": 4,
   "metadata": {},
   "outputs": [
    {
     "ename": "ValueError",
     "evalue": "Empty value",
     "output_type": "error",
     "traceback": [
      "\u001b[1;31m---------------------------------------------------------------------------\u001b[0m",
      "\u001b[1;31mValueError\u001b[0m                                Traceback (most recent call last)",
      "\u001b[1;32m<ipython-input-4-d3694ba7f947>\u001b[0m in \u001b[0;36m<module>\u001b[1;34m\u001b[0m\n\u001b[0;32m      4\u001b[0m         ('Teavee',     'television')]\n\u001b[0;32m      5\u001b[0m \u001b[1;33m\u001b[0m\u001b[0m\n\u001b[1;32m----> 6\u001b[1;33m \u001b[0mjourney_begins\u001b[0m\u001b[1;33m(\u001b[0m\u001b[1;33m*\u001b[0m\u001b[0margs\u001b[0m\u001b[1;33m,\u001b[0m \u001b[0msame_letters\u001b[0m \u001b[1;33m=\u001b[0m \u001b[1;36m2\u001b[0m\u001b[1;33m)\u001b[0m\u001b[1;33m\u001b[0m\u001b[1;33m\u001b[0m\u001b[0m\n\u001b[0m",
      "\u001b[1;32m<ipython-input-2-5954bc1db00d>\u001b[0m in \u001b[0;36mjourney_begins\u001b[1;34m(same_letters, *argTup)\u001b[0m\n\u001b[0;32m     14\u001b[0m \u001b[1;33m\u001b[0m\u001b[0m\n\u001b[0;32m     15\u001b[0m         \u001b[1;32mif\u001b[0m\u001b[1;33m(\u001b[0m\u001b[1;32mnot\u001b[0m \u001b[0mword_1\u001b[0m \u001b[1;32mor\u001b[0m \u001b[1;32mnot\u001b[0m \u001b[0mword_2\u001b[0m\u001b[1;33m)\u001b[0m\u001b[1;33m:\u001b[0m\u001b[1;33m\u001b[0m\u001b[1;33m\u001b[0m\u001b[0m\n\u001b[1;32m---> 16\u001b[1;33m             \u001b[1;32mraise\u001b[0m \u001b[0mValueError\u001b[0m\u001b[1;33m(\u001b[0m\u001b[1;34m'Empty value'\u001b[0m\u001b[1;33m)\u001b[0m\u001b[1;33m\u001b[0m\u001b[1;33m\u001b[0m\u001b[0m\n\u001b[0m\u001b[0;32m     17\u001b[0m \u001b[1;33m\u001b[0m\u001b[0m\n\u001b[0;32m     18\u001b[0m         \u001b[0mcoss\u001b[0m \u001b[1;33m=\u001b[0m \u001b[1;33m[\u001b[0m\u001b[0mCounter\u001b[0m\u001b[1;33m(\u001b[0m\u001b[0ms\u001b[0m\u001b[1;33m)\u001b[0m \u001b[1;32mfor\u001b[0m \u001b[0ms\u001b[0m \u001b[1;32min\u001b[0m \u001b[1;33m[\u001b[0m\u001b[0mword_1\u001b[0m\u001b[1;33m,\u001b[0m \u001b[0mword_2\u001b[0m\u001b[1;33m]\u001b[0m\u001b[1;33m]\u001b[0m\u001b[1;33m\u001b[0m\u001b[1;33m\u001b[0m\u001b[0m\n",
      "\u001b[1;31mValueError\u001b[0m: Empty value"
     ]
    }
   ],
   "source": [
    "args = [('Foolish',    ''),\n",
    "        ('Solt',       'veruka'),\n",
    "        ('Beauregard', 'bubble gum'),\n",
    "        ('Teavee',     'television')]\n",
    "\n",
    "journey_begins(*args, same_letters = 2)"
   ]
  },
  {
   "cell_type": "code",
   "execution_count": null,
   "metadata": {},
   "outputs": [],
   "source": [
    "args = [('Foolish',    ''),\n",
    "        ('Solt',       'veruka'),\n",
    "        ('Beauregard', 'bubble gum'),\n",
    "        ('Teavee',     'television')]\n",
    "\n",
    "journey_begins(*args, same_letters = -2)"
   ]
  }
 ],
 "metadata": {
  "kernelspec": {
   "display_name": "Python 3",
   "language": "python",
   "name": "python3"
  },
  "language_info": {
   "codemirror_mode": {
    "name": "ipython",
    "version": 3
   },
   "file_extension": ".py",
   "mimetype": "text/x-python",
   "name": "python",
   "nbconvert_exporter": "python",
   "pygments_lexer": "ipython3",
   "version": "3.9.0"
  }
 },
 "nbformat": 4,
 "nbformat_minor": 4
}
