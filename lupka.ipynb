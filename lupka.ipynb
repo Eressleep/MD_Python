{
 "cells": [
  {
   "cell_type": "code",
   "execution_count": 1,
   "metadata": {},
   "outputs": [],
   "source": [
    "from collections import Counter\n",
    "from costum_except import *"
   ]
  },
  {
   "cell_type": "code",
   "execution_count": 28,
   "metadata": {},
   "outputs": [
    {
     "data": {
      "text/plain": [
       "['begu', 'etv', 'fo']"
      ]
     },
     "execution_count": 28,
     "metadata": {},
     "output_type": "execute_result"
    }
   ],
   "source": [
    "def journey_begins(*argTup, same_letters = 2):\n",
    "    \n",
    "    if(type(argTup) == 'turple'):\n",
    "        raise NoInputError('No input data')\n",
    "    if (same_letters < 1):\n",
    "        raise ZeroNegativeError('Invalid parameter value')\n",
    "        \n",
    "    answer = []\n",
    "    \n",
    "    for words in argTup:\n",
    "        \n",
    "        word_1 = ''.join(sorted(set(words[0].lower()), key=words[0].lower().index))\n",
    "        word_2 = ''.join(sorted(set(words[1].lower()), key=words[1].lower().index))\n",
    "        \n",
    "        if(not word_1 or not word_2):\n",
    "            raise ValueError('Empty value')\n",
    "            \n",
    "        coss = [Counter(s) for s in [word_1, word_2]]\n",
    "        \n",
    "        if (sum((coss[0] & coss[1]).values()) >= same_letters):\n",
    "            \n",
    "            data = word_1+word_2\n",
    "            data = [x for x in data if data.count(x) > 1]\n",
    "            data = ''.join(sorted(set(data), key=data.index))\n",
    "            \n",
    "            answer.append(''.join(sorted(data,key=lambda c:c.upper())))\n",
    "            \n",
    "    return sorted(answer)\n",
    "\n",
    "journey_begins(*args, same_letters = 2)"
   ]
  },
  {
   "cell_type": "code",
   "execution_count": 27,
   "metadata": {},
   "outputs": [
    {
     "data": {
      "text/plain": [
       "['begu', 'etv', 'fo']"
      ]
     },
     "execution_count": 27,
     "metadata": {},
     "output_type": "execute_result"
    }
   ],
   "source": [
    "args = [('Foolish',    'food'),\n",
    "        ('Solt',       'veruka'),\n",
    "        ('Beauregard', 'bubble gum'),\n",
    "        ('Teavee',     'television')]\n",
    "\n",
    "journey_begins(*args, same_letters = 2)"
   ]
  },
  {
   "cell_type": "code",
   "execution_count": 31,
   "metadata": {},
   "outputs": [
    {
     "ename": "ValueError",
     "evalue": "Empty value",
     "output_type": "error",
     "traceback": [
      "\u001b[1;31m---------------------------------------------------------------------------\u001b[0m",
      "\u001b[1;31mValueError\u001b[0m                                Traceback (most recent call last)",
      "\u001b[1;32m<ipython-input-31-d3694ba7f947>\u001b[0m in \u001b[0;36m<module>\u001b[1;34m\u001b[0m\n\u001b[0;32m      4\u001b[0m         ('Teavee',     'television')]\n\u001b[0;32m      5\u001b[0m \u001b[1;33m\u001b[0m\u001b[0m\n\u001b[1;32m----> 6\u001b[1;33m \u001b[0mjourney_begins\u001b[0m\u001b[1;33m(\u001b[0m\u001b[1;33m*\u001b[0m\u001b[0margs\u001b[0m\u001b[1;33m,\u001b[0m \u001b[0msame_letters\u001b[0m \u001b[1;33m=\u001b[0m \u001b[1;36m2\u001b[0m\u001b[1;33m)\u001b[0m\u001b[1;33m\u001b[0m\u001b[1;33m\u001b[0m\u001b[0m\n\u001b[0m",
      "\u001b[1;32m<ipython-input-28-39189c655659>\u001b[0m in \u001b[0;36mjourney_begins\u001b[1;34m(same_letters, *argTup)\u001b[0m\n\u001b[0;32m     14\u001b[0m \u001b[1;33m\u001b[0m\u001b[0m\n\u001b[0;32m     15\u001b[0m         \u001b[1;32mif\u001b[0m\u001b[1;33m(\u001b[0m\u001b[1;32mnot\u001b[0m \u001b[0mword_1\u001b[0m \u001b[1;32mor\u001b[0m \u001b[1;32mnot\u001b[0m \u001b[0mword_2\u001b[0m\u001b[1;33m)\u001b[0m\u001b[1;33m:\u001b[0m\u001b[1;33m\u001b[0m\u001b[1;33m\u001b[0m\u001b[0m\n\u001b[1;32m---> 16\u001b[1;33m             \u001b[1;32mraise\u001b[0m \u001b[0mValueError\u001b[0m\u001b[1;33m(\u001b[0m\u001b[1;34m'Empty value'\u001b[0m\u001b[1;33m)\u001b[0m\u001b[1;33m\u001b[0m\u001b[1;33m\u001b[0m\u001b[0m\n\u001b[0m\u001b[0;32m     17\u001b[0m \u001b[1;33m\u001b[0m\u001b[0m\n\u001b[0;32m     18\u001b[0m         \u001b[0mcoss\u001b[0m \u001b[1;33m=\u001b[0m \u001b[1;33m[\u001b[0m\u001b[0mCounter\u001b[0m\u001b[1;33m(\u001b[0m\u001b[0ms\u001b[0m\u001b[1;33m)\u001b[0m \u001b[1;32mfor\u001b[0m \u001b[0ms\u001b[0m \u001b[1;32min\u001b[0m \u001b[1;33m[\u001b[0m\u001b[0mword_1\u001b[0m\u001b[1;33m,\u001b[0m \u001b[0mword_2\u001b[0m\u001b[1;33m]\u001b[0m\u001b[1;33m]\u001b[0m\u001b[1;33m\u001b[0m\u001b[1;33m\u001b[0m\u001b[0m\n",
      "\u001b[1;31mValueError\u001b[0m: Empty value"
     ]
    }
   ],
   "source": [
    "args = [('Foolish',    ''),\n",
    "        ('Solt',       'veruka'),\n",
    "        ('Beauregard', 'bubble gum'),\n",
    "        ('Teavee',     'television')]\n",
    "\n",
    "journey_begins(*args, same_letters = 2)"
   ]
  },
  {
   "cell_type": "code",
   "execution_count": 32,
   "metadata": {},
   "outputs": [
    {
     "ename": "ZeroNegativeError",
     "evalue": "Invalid parameter value",
     "output_type": "error",
     "traceback": [
      "\u001b[1;31m---------------------------------------------------------------------------\u001b[0m",
      "\u001b[1;31mZeroNegativeError\u001b[0m                         Traceback (most recent call last)",
      "\u001b[1;32m<ipython-input-32-85d4a2766a4a>\u001b[0m in \u001b[0;36m<module>\u001b[1;34m\u001b[0m\n\u001b[0;32m      4\u001b[0m         ('Teavee',     'television')]\n\u001b[0;32m      5\u001b[0m \u001b[1;33m\u001b[0m\u001b[0m\n\u001b[1;32m----> 6\u001b[1;33m \u001b[0mjourney_begins\u001b[0m\u001b[1;33m(\u001b[0m\u001b[1;33m*\u001b[0m\u001b[0margs\u001b[0m\u001b[1;33m,\u001b[0m \u001b[0msame_letters\u001b[0m \u001b[1;33m=\u001b[0m \u001b[1;33m-\u001b[0m\u001b[1;36m2\u001b[0m\u001b[1;33m)\u001b[0m\u001b[1;33m\u001b[0m\u001b[1;33m\u001b[0m\u001b[0m\n\u001b[0m",
      "\u001b[1;32m<ipython-input-28-39189c655659>\u001b[0m in \u001b[0;36mjourney_begins\u001b[1;34m(same_letters, *argTup)\u001b[0m\n\u001b[0;32m      4\u001b[0m         \u001b[1;32mraise\u001b[0m \u001b[0mNoInputError\u001b[0m\u001b[1;33m(\u001b[0m\u001b[1;34m'No input data'\u001b[0m\u001b[1;33m)\u001b[0m\u001b[1;33m\u001b[0m\u001b[1;33m\u001b[0m\u001b[0m\n\u001b[0;32m      5\u001b[0m     \u001b[1;32mif\u001b[0m \u001b[1;33m(\u001b[0m\u001b[0msame_letters\u001b[0m \u001b[1;33m<\u001b[0m \u001b[1;36m1\u001b[0m\u001b[1;33m)\u001b[0m\u001b[1;33m:\u001b[0m\u001b[1;33m\u001b[0m\u001b[1;33m\u001b[0m\u001b[0m\n\u001b[1;32m----> 6\u001b[1;33m         \u001b[1;32mraise\u001b[0m \u001b[0mZeroNegativeError\u001b[0m\u001b[1;33m(\u001b[0m\u001b[1;34m'Invalid parameter value'\u001b[0m\u001b[1;33m)\u001b[0m\u001b[1;33m\u001b[0m\u001b[1;33m\u001b[0m\u001b[0m\n\u001b[0m\u001b[0;32m      7\u001b[0m \u001b[1;33m\u001b[0m\u001b[0m\n\u001b[0;32m      8\u001b[0m     \u001b[0manswer\u001b[0m \u001b[1;33m=\u001b[0m \u001b[1;33m[\u001b[0m\u001b[1;33m]\u001b[0m\u001b[1;33m\u001b[0m\u001b[1;33m\u001b[0m\u001b[0m\n",
      "\u001b[1;31mZeroNegativeError\u001b[0m: Invalid parameter value"
     ]
    }
   ],
   "source": [
    "args = [('Foolish',    ''),\n",
    "        ('Solt',       'veruka'),\n",
    "        ('Beauregard', 'bubble gum'),\n",
    "        ('Teavee',     'television')]\n",
    "\n",
    "journey_begins(*args, same_letters = -2)"
   ]
  }
 ],
 "metadata": {
  "kernelspec": {
   "display_name": "Python 3",
   "language": "python",
   "name": "python3"
  },
  "language_info": {
   "codemirror_mode": {
    "name": "ipython",
    "version": 3
   },
   "file_extension": ".py",
   "mimetype": "text/x-python",
   "name": "python",
   "nbconvert_exporter": "python",
   "pygments_lexer": "ipython3",
   "version": "3.9.0"
  }
 },
 "nbformat": 4,
 "nbformat_minor": 4
}
