{
 "cells": [
  {
   "cell_type": "code",
   "execution_count": 1,
   "metadata": {},
   "outputs": [],
   "source": [
    "from collections import Counter"
   ]
  },
  {
   "cell_type": "code",
   "execution_count": 11,
   "metadata": {},
   "outputs": [],
   "source": [
    "def journey_begins(*argTup, same_letters = 2):\n",
    "    if (same_letters < 0):\n",
    "        return 'ZeroNegativeError raised with message \"Invalid parameter value'\n",
    "    answer = []\n",
    "    for words in argTup:\n",
    "        word_1 = ''.join(sorted(set(words[0].lower()), key=words[0].lower().index))\n",
    "        word_2 = ''.join(sorted(set(words[1].lower()), key=words[1].lower().index))\n",
    "        coss = [Counter(s) for s in [word_1, word_2]]\n",
    "        if (sum((coss[0] & coss[1]).values()) >= same_letters):\n",
    "            data = word_1+word_2\n",
    "            data = [x for x in data if data.count(x) > 1]\n",
    "            data = ''.join(sorted(set(data), key=data.index))\n",
    "            answer.append(''.join(sorted(data,key=lambda c:c.upper())))\n",
    "    return sorted(answer)\n"
   ]
  },
  {
   "cell_type": "code",
   "execution_count": 13,
   "metadata": {},
   "outputs": [
    {
     "data": {
      "text/plain": [
       "'ZeroNegativeError raised with message \"Invalid parameter value'"
      ]
     },
     "execution_count": 13,
     "metadata": {},
     "output_type": "execute_result"
    }
   ],
   "source": [
    "args = [('Foolish',    'food'),\n",
    "        ('Solt',       'veruka'),\n",
    "        ('Beauregard', 'bubble gum'),\n",
    "        ('Teavee',     'television')]\n",
    "\n",
    "journey_begins(*args, same_letters = -2)"
   ]
  }
 ],
 "metadata": {
  "kernelspec": {
   "display_name": "Python 3",
   "language": "python",
   "name": "python3"
  },
  "language_info": {
   "codemirror_mode": {
    "name": "ipython",
    "version": 3
   },
   "file_extension": ".py",
   "mimetype": "text/x-python",
   "name": "python",
   "nbconvert_exporter": "python",
   "pygments_lexer": "ipython3",
   "version": "3.9.0"
  }
 },
 "nbformat": 4,
 "nbformat_minor": 4
}
